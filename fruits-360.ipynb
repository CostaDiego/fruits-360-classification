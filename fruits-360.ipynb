{
 "cells": [
  {
   "cell_type": "markdown",
   "metadata": {},
   "source": [
    "This task intends to measure your deep learning basic skills. We will provide you a dataset containing 131 different fruits. Download it from this [link](https:///www.kaggle.com/moltean/fruits), download it and upload it to your copy of this file\n",
    "\n",
    "You have to implement a Convolutional Neural Network to classify the input fruit image. For this task, you must follow the following rules:\n",
    "\n",
    "- Use a ResNet50 as your CNN backbone.\n",
    "- The model output must be a probability score for all the classes.\n",
    "- You can implement the model in any Deep Learning framework that you are used to use.\n",
    "- Make sure you write your code following the best practices.\n",
    "- Make sure you document all the steps you took to solve the problem.\n"
   ]
  },
  {
   "cell_type": "code",
   "execution_count": 1,
   "metadata": {},
   "outputs": [],
   "source": [
    "# Import all needed libraries\n",
    "import numpy as np\n",
    "import pandas as pd\n",
    "import matplotlib.pyplot as plt\n",
    "from tensorflow.keras.preprocessing.image import ImageDataGenerator\n",
    "from PIL import Image\n",
    "\n",
    "#Auxiliary libraries\n",
    "from os import listdir, path"
   ]
  },
  {
   "cell_type": "code",
   "execution_count": 2,
   "metadata": {},
   "outputs": [],
   "source": [
    "#Declaring and defining the constants\n",
    "BASE_FOLDER = 'data'\n",
    "TRAIN_FOLDER = 'data/Training'\n",
    "TEST_FOLDER = 'data/Test'\n",
    "TRAIN_DF = 'train_df.csv'\n",
    "TEST_DF = 'test_df.csv'\n",
    "COLUMNS = {\n",
    "    'LABEL':'label',\n",
    "    'FILE':'file'\n",
    "}\n",
    "\n",
    "INPUT_SHAPE = (100,100,3)"
   ]
  },
  {
   "cell_type": "code",
   "execution_count": 3,
   "metadata": {},
   "outputs": [],
   "source": [
    "def generate_dataframe(data_folder, columns = COLUMNS):\n",
    "    labels = listdir(data_folder)\n",
    "    \n",
    "    dataframe = pd.DataFrame()\n",
    "    \n",
    "    for lbl in labels:\n",
    "        data = {\n",
    "            columns['FILE'] : [path.join(lbl,file) for file in listdir(path.join(data_folder,lbl))],\n",
    "            columns['LABEL']: lbl\n",
    "        }\n",
    "        df = pd.DataFrame(data)\n",
    "        \n",
    "        dataframe = dataframe.append(df)\n",
    "    \n",
    "    return dataframe.sample(frac=1).reset_index(drop=True)\n",
    "\n",
    "def load_dataframe(df_path):\n",
    "    if path.isfile(df_path):\n",
    "        return pd.read_csv(df_path)\n",
    "    else:\n",
    "        return None\n"
   ]
  },
  {
   "cell_type": "code",
   "execution_count": 4,
   "metadata": {},
   "outputs": [],
   "source": [
    "#Load the dataframe\n",
    "\n",
    "train_df = load_dataframe(path.join(BASE_FOLDER, TRAIN_DF))\n",
    "\n",
    "if train_df is None:\n",
    "    train_df = generate_dataframe(TRAIN_FOLDER)\n",
    "    train_df.to_csv(path.join(BASE_FOLDER, TRAIN_DF),index=False)\n",
    "    \n",
    "\n",
    "test_df = load_dataframe(path.join(BASE_FOLDER, TEST_DF))\n",
    "\n",
    "if test_df is None:\n",
    "    test_df = generate_dataframe(TEST_FOLDER)\n",
    "    test_df.to_csv(path.join(BASE_FOLDER, TEST_DF),index=False)"
   ]
  },
  {
   "cell_type": "code",
   "execution_count": 5,
   "metadata": {},
   "outputs": [],
   "source": [
    "CLASSES = pd.unique(train_df['label'])\n",
    "QTT_CLASSES = CLASSES.shape[0]"
   ]
  },
  {
   "cell_type": "code",
   "execution_count": null,
   "metadata": {},
   "outputs": [],
   "source": []
  }
 ],
 "metadata": {
  "kernelspec": {
   "display_name": "tensorflow",
   "language": "python",
   "name": "tensorflow"
  },
  "language_info": {
   "codemirror_mode": {
    "name": "ipython",
    "version": 3
   },
   "file_extension": ".py",
   "mimetype": "text/x-python",
   "name": "python",
   "nbconvert_exporter": "python",
   "pygments_lexer": "ipython3",
   "version": "3.8.5"
  }
 },
 "nbformat": 4,
 "nbformat_minor": 4
}
